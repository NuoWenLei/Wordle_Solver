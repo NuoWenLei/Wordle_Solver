{
 "cells": [
  {
   "cell_type": "code",
   "execution_count": 3,
   "metadata": {},
   "outputs": [],
   "source": [
    "import json\n",
    "import numpy as np"
   ]
  },
  {
   "cell_type": "code",
   "execution_count": 4,
   "metadata": {},
   "outputs": [],
   "source": [
    "with open(\"/Users/nuowenlei/Desktop/Programming/Python/Wordle_cuz_why_not/five_letter_words.json\", \"r\") as words_read:\n",
    "\twords = json.load(words_read)"
   ]
  },
  {
   "cell_type": "code",
   "execution_count": 5,
   "metadata": {},
   "outputs": [],
   "source": [
    "import string\n",
    "\n",
    "letter_dict = dict((a, i) for i, a in enumerate(string.ascii_lowercase))"
   ]
  },
  {
   "cell_type": "code",
   "execution_count": 6,
   "metadata": {},
   "outputs": [],
   "source": [
    "encoded_words = []\n",
    "\n",
    "for w in words:\n",
    "\tencoded_words.append([letter_dict[l] for l in w])"
   ]
  },
  {
   "cell_type": "code",
   "execution_count": 7,
   "metadata": {},
   "outputs": [],
   "source": [
    "encoded_words_numpy = np.array(encoded_words)"
   ]
  },
  {
   "cell_type": "code",
   "execution_count": 8,
   "metadata": {},
   "outputs": [
    {
     "data": {
      "text/plain": [
       "(12976, 5)"
      ]
     },
     "execution_count": 8,
     "metadata": {},
     "output_type": "execute_result"
    }
   ],
   "source": [
    "encoded_words_numpy.shape"
   ]
  },
  {
   "cell_type": "code",
   "execution_count": 11,
   "metadata": {},
   "outputs": [],
   "source": [
    "def to_onehot(encoded):\n",
    "\tonehot = np.zeros([i for i in encoded.shape] + [len(string.ascii_lowercase)]).reshape(-1, len(string.ascii_lowercase))\n",
    "\n",
    "\tonehot[np.arange(0, onehot.shape[0]), encoded.reshape(-1,)] = 1.\n",
    "\n",
    "\treturn onehot.reshape([i for i in encoded.shape] + [len(string.ascii_lowercase)])\n"
   ]
  },
  {
   "cell_type": "code",
   "execution_count": 12,
   "metadata": {},
   "outputs": [],
   "source": [
    "onehot_words = to_onehot(encoded_words_numpy)"
   ]
  },
  {
   "cell_type": "code",
   "execution_count": 30,
   "metadata": {},
   "outputs": [
    {
     "data": {
      "text/plain": [
       "array([0, 1, 2, 3, 4, 5, 6, 7, 8, 9, 0, 1, 2, 3, 4, 5, 6, 7, 8, 9, 0, 1,\n",
       "       2, 3, 4, 5, 6, 7, 8, 9, 0, 1, 2, 3, 4, 5, 6, 7, 8, 9, 0, 1, 2, 3,\n",
       "       4, 5, 6, 7, 8, 9])"
      ]
     },
     "execution_count": 30,
     "metadata": {},
     "output_type": "execute_result"
    }
   ],
   "source": [
    "np.repeat(np.arange(0, 10)[np.newaxis, ...], 5, axis = 0).reshape(-1)"
   ]
  },
  {
   "cell_type": "code",
   "execution_count": 33,
   "metadata": {},
   "outputs": [],
   "source": [
    "def optimized_preprocess_by_position(encoded):\n",
    "\tnew_words = np.zeros([encoded.shape[0], 26, 5])\n",
    "\tindex_1 = np.repeat(np.arange(0, new_words.shape[0])[..., np.newaxis], 5, axis = 1).reshape(-1)\n",
    "\tindex_2 = np.repeat(np.arange(0, 5)[np.newaxis, ...], new_words.shape[0], axis = 0).reshape(-1)\n",
    "\n",
    "\tnew_words[index_1, encoded.reshape(-1), index_2] = 1.\n",
    "\t\n",
    "\treturn new_words"
   ]
  },
  {
   "cell_type": "code",
   "execution_count": 41,
   "metadata": {},
   "outputs": [],
   "source": [
    "a = np.array([[1,2,3]])"
   ]
  },
  {
   "cell_type": "code",
   "execution_count": 42,
   "metadata": {},
   "outputs": [
    {
     "data": {
      "text/plain": [
       "array([[1, 2, 3]])"
      ]
     },
     "execution_count": 42,
     "metadata": {},
     "output_type": "execute_result"
    }
   ],
   "source": [
    "a"
   ]
  },
  {
   "cell_type": "code",
   "execution_count": 43,
   "metadata": {},
   "outputs": [
    {
     "data": {
      "text/plain": [
       "array([[1],\n",
       "       [2],\n",
       "       [3]])"
      ]
     },
     "execution_count": 43,
     "metadata": {},
     "output_type": "execute_result"
    }
   ],
   "source": [
    "a.T"
   ]
  },
  {
   "cell_type": "code",
   "execution_count": 13,
   "metadata": {},
   "outputs": [],
   "source": [
    "def preprocess_by_position(encoded):\n",
    "\tnew_words = []\n",
    "\tfor w in encoded:\n",
    "\t\tnew_word = np.zeros((26, 5))\n",
    "\t\tfor i, l in enumerate(w):\n",
    "\t\t\tnew_word[l, i] = 1.\n",
    "\t\n",
    "\t\tnew_words.append(new_word)\n",
    "\t\n",
    "\treturn np.array(new_words)\n"
   ]
  },
  {
   "cell_type": "code",
   "execution_count": 36,
   "metadata": {},
   "outputs": [],
   "source": [
    "position_words_1 = optimized_preprocess_by_position(encoded_words_numpy)"
   ]
  },
  {
   "cell_type": "code",
   "execution_count": 44,
   "metadata": {},
   "outputs": [
    {
     "data": {
      "text/plain": [
       "array([[0., 0., 0., 0., 0.],\n",
       "       [0., 0., 0., 0., 0.],\n",
       "       [0., 0., 0., 0., 0.],\n",
       "       [0., 0., 0., 0., 0.],\n",
       "       [0., 1., 0., 0., 0.],\n",
       "       [0., 0., 0., 0., 0.],\n",
       "       [0., 0., 0., 0., 0.],\n",
       "       [0., 0., 0., 0., 0.],\n",
       "       [0., 0., 0., 0., 0.],\n",
       "       [0., 0., 0., 0., 0.],\n",
       "       [0., 0., 0., 0., 0.],\n",
       "       [0., 0., 0., 0., 0.],\n",
       "       [0., 0., 0., 0., 0.],\n",
       "       [0., 0., 0., 0., 0.],\n",
       "       [0., 0., 0., 0., 0.],\n",
       "       [1., 0., 0., 0., 0.],\n",
       "       [0., 0., 0., 0., 0.],\n",
       "       [0., 0., 0., 0., 0.],\n",
       "       [0., 0., 0., 0., 0.],\n",
       "       [0., 0., 1., 1., 0.],\n",
       "       [0., 0., 0., 0., 0.],\n",
       "       [0., 0., 0., 0., 0.],\n",
       "       [0., 0., 0., 0., 0.],\n",
       "       [0., 0., 0., 0., 0.],\n",
       "       [0., 0., 0., 0., 1.],\n",
       "       [0., 0., 0., 0., 0.]])"
      ]
     },
     "execution_count": 44,
     "metadata": {},
     "output_type": "execute_result"
    }
   ],
   "source": [
    "position_words_1[0]"
   ]
  },
  {
   "cell_type": "code",
   "execution_count": 35,
   "metadata": {},
   "outputs": [],
   "source": [
    "position_words = preprocess_by_position(encoded_words_numpy)"
   ]
  },
  {
   "cell_type": "code",
   "execution_count": 37,
   "metadata": {},
   "outputs": [
    {
     "data": {
      "text/plain": [
       "1.0"
      ]
     },
     "execution_count": 37,
     "metadata": {},
     "output_type": "execute_result"
    }
   ],
   "source": [
    "(position_words_1 == position_words).mean()"
   ]
  },
  {
   "cell_type": "code",
   "execution_count": 16,
   "metadata": {},
   "outputs": [
    {
     "data": {
      "text/plain": [
       "(12976, 26, 5)"
      ]
     },
     "execution_count": 16,
     "metadata": {},
     "output_type": "execute_result"
    }
   ],
   "source": [
    "position_words.shape"
   ]
  },
  {
   "cell_type": "code",
   "execution_count": 17,
   "metadata": {},
   "outputs": [
    {
     "data": {
      "text/plain": [
       "(12976, 5, 26)"
      ]
     },
     "execution_count": 17,
     "metadata": {},
     "output_type": "execute_result"
    }
   ],
   "source": [
    "onehot_words.shape"
   ]
  },
  {
   "cell_type": "code",
   "execution_count": 22,
   "metadata": {},
   "outputs": [],
   "source": [
    "import matplotlib.pyplot as plt\n",
    "import seaborn as sns"
   ]
  },
  {
   "cell_type": "code",
   "execution_count": 24,
   "metadata": {},
   "outputs": [
    {
     "data": {
      "text/plain": [
       "(26, 5)"
      ]
     },
     "execution_count": 24,
     "metadata": {},
     "output_type": "execute_result"
    }
   ],
   "source": [
    "position_dist = position_words.mean(axis = 0)\n",
    "position_dist.shape"
   ]
  },
  {
   "cell_type": "code",
   "execution_count": 11,
   "metadata": {},
   "outputs": [
    {
     "data": {
      "text/plain": [
       "(5, 26)"
      ]
     },
     "execution_count": 11,
     "metadata": {},
     "output_type": "execute_result"
    }
   ],
   "source": [
    "letter_dist = onehot_words.mean(axis = 0)\n",
    "\n",
    "letter_dist.shape"
   ]
  },
  {
   "cell_type": "code",
   "execution_count": 12,
   "metadata": {},
   "outputs": [
    {
     "data": {
      "text/plain": [
       "1.0"
      ]
     },
     "execution_count": 12,
     "metadata": {},
     "output_type": "execute_result"
    }
   ],
   "source": [
    "letter_dist[0].sum()"
   ]
  },
  {
   "cell_type": "code",
   "execution_count": 26,
   "metadata": {},
   "outputs": [
    {
     "data": {
      "image/png": "[encoded data removed]",
      "text/plain": [
       "<Figure size 432x288 with 1 Axes>"
      ]
     },
     "metadata": {
      "needs_background": "light"
     },
     "output_type": "display_data"
    }
   ],
   "source": [
    "sns.barplot(x = np.arange(0, 5), y = position_dist[0])\n",
    "# plt.xticks(ticks = np.arange(0, len(string.ascii_lowercase)), labels = [l for l in string.ascii_lowercase])\n",
    "pass"
   ]
  },
  {
   "cell_type": "code",
   "execution_count": 29,
   "metadata": {},
   "outputs": [
    {
     "data": {
      "image/png": "[encoded data removed]",
      "text/plain": [
       "<Figure size 432x288 with 1 Axes>"
      ]
     },
     "metadata": {
      "needs_background": "light"
     },
     "output_type": "display_data"
    }
   ],
   "source": [
    "sns.barplot(x = np.arange(0, len(string.ascii_lowercase)), y = letter_dist[1])\n",
    "plt.xticks(ticks = np.arange(0, len(string.ascii_lowercase)), labels = [l for l in string.ascii_lowercase])\n",
    "pass"
   ]
  },
  {
   "cell_type": "code",
   "execution_count": 30,
   "metadata": {},
   "outputs": [
    {
     "data": {
      "image/png": "[encoded data removed]",
      "text/plain": [
       "<Figure size 432x288 with 1 Axes>"
      ]
     },
     "metadata": {
      "needs_background": "light"
     },
     "output_type": "display_data"
    }
   ],
   "source": [
    "sns.barplot(x = np.arange(0, len(string.ascii_lowercase)), y = letter_dist[2])\n",
    "plt.xticks(ticks = np.arange(0, len(string.ascii_lowercase)), labels = [l for l in string.ascii_lowercase])\n",
    "pass"
   ]
  },
  {
   "cell_type": "code",
   "execution_count": 33,
   "metadata": {},
   "outputs": [
    {
     "data": {
      "image/png": "[encoded data removed]",
      "text/plain": [
       "<Figure size 432x288 with 1 Axes>"
      ]
     },
     "metadata": {
      "needs_background": "light"
     },
     "output_type": "display_data"
    }
   ],
   "source": [
    "sns.barplot(x = np.arange(0, len(string.ascii_lowercase)), y = letter_dist[3])\n",
    "plt.xticks(ticks = np.arange(0, len(string.ascii_lowercase)), labels = [l for l in string.ascii_lowercase])\n",
    "pass"
   ]
  },
  {
   "cell_type": "code",
   "execution_count": 32,
   "metadata": {},
   "outputs": [
    {
     "data": {
      "image/png": "[encoded data removed]",
      "text/plain": [
       "<Figure size 432x288 with 1 Axes>"
      ]
     },
     "metadata": {
      "needs_background": "light"
     },
     "output_type": "display_data"
    }
   ],
   "source": [
    "sns.barplot(x = np.arange(0, len(string.ascii_lowercase)), y = letter_dist[4])\n",
    "plt.xticks(ticks = np.arange(0, len(string.ascii_lowercase)), labels = [l for l in string.ascii_lowercase])\n",
    "pass"
   ]
  },
  {
   "cell_type": "markdown",
   "metadata": {},
   "source": [
    "Process:\n",
    "- greedy guess from vocab distribution (most probable at each position)\n",
    "- adjust guess to word that loses the least information based on information-sum list\n",
    "- advance state with word\n",
    "- given a (5, 26) tensor\n",
    "\t- 5: each position in word\n",
    "\t- 26: each letter in position\n",
    "\t- each coordinate is either 3 (correct position), 2 (in word and could be here), 1 (not in this position), or 0 (not guessed)\n",
    "- use tensor to filter possible words\n",
    "- create new vocab distribution\n",
    "- calculate new word information matrix (5, 26)\n",
    "\t- each cell representing the probability of a letter in that position\n",
    "- apply word info matrix in all available vocab to create newest information-sum list"
   ]
  },
  {
   "cell_type": "code",
   "execution_count": null,
   "metadata": {},
   "outputs": [],
   "source": []
  },
  {
   "cell_type": "code",
   "execution_count": 48,
   "metadata": {},
   "outputs": [],
   "source": [
    "def get_vocab_distribution(vocab):\n",
    "\treturn vocab.mean(axis = 0)"
   ]
  },
  {
   "cell_type": "code",
   "execution_count": 57,
   "metadata": {},
   "outputs": [],
   "source": [
    "def word_information(vocab, vocab_distribution, state):\n",
    "\t\n",
    "\tinfo_list = []\n",
    "\n",
    "\tfor v in vocab:\n",
    "\t\tinfo_list.append(information_gained(v, vocab_distribution, state))\n",
    "\t\n",
    "\treturn info_list\n"
   ]
  },
  {
   "cell_type": "code",
   "execution_count": 1,
   "metadata": {},
   "outputs": [],
   "source": [
    "def information_gained(w, vocab_distribution, state):\n",
    "\t# w: (5, 26) word\n",
    "\t\n",
    "\ttotal_info = 0.0\n",
    "\n",
    "\tfor i in range(w.shape[0]):\n",
    "\t\t# Probability of new information gained\n",
    "\n",
    "\t\tl = np.argmax(w[i])\n",
    "\n",
    "\t\tif state[i, l] in [1,3]:\n",
    "\t\t\tcontinue\n",
    "\n",
    "\t\tif state[i, l] == 2:\n",
    "\t\t\ttotal_info +=  (vocab_distribution[i, l] * 3.) + (1. - vocab_distribution[i, l])\n",
    "\n",
    "\t\ttotal_info += (vocab_distribution[i, l] * 3.) + (vocab_distribution[np.arange(0, w.shape[0]) != i, l].mean() * 2.) + (1. - vocab_distribution[:, l].mean())\n",
    "\t\n",
    "\treturn (w, total_info)\n"
   ]
  },
  {
   "cell_type": "code",
   "execution_count": 55,
   "metadata": {},
   "outputs": [],
   "source": [
    "def update_state(state, letter_info):\n",
    "\tl = letter_dict[letter_info[1]]\n",
    "\tposition = letter_info[0]\n",
    "\t\n",
    "\tif letter_info[1] == 1:\n",
    "\t\tstate[:, l] = 1.\n",
    "\n",
    "\tif letter_info[1] == 2:\n",
    "\t\tstate[:, l] = 2.\n",
    "\t\tstate[position, l] = 1.\n",
    "\n",
    "\tif letter_info[1] == 3:\n",
    "\t\tstate[position, :] = 1.\n",
    "\t\tstate[position, l] = 3.\n",
    "\t\n",
    "\treturn state\n",
    "\n"
   ]
  },
  {
   "cell_type": "code",
   "execution_count": 56,
   "metadata": {},
   "outputs": [],
   "source": [
    "def get_state(guesses):\n",
    "\tnew_state = np.zeros((5, 26))\n",
    "\tall_update_guesses = []\n",
    "\tfor g in guesses:\n",
    "\t\tfor i, l in enumerate(g):\n",
    "\t\t\tall_update_guesses.append((i, l[0], l[1]))\n",
    "\n",
    "\tfor info in sorted(all_update_guesses, key = lambda x: x[2]):\n",
    "\t\tnew_state = update_state(new_state, info)\n",
    "\t\n",
    "\treturn new_state"
   ]
  },
  {
   "cell_type": "code",
   "execution_count": 40,
   "metadata": {},
   "outputs": [],
   "source": [
    "a = np.array([0,1,1,1,0])\n",
    "b = np.array([0, 2, 0, 0, 1])"
   ]
  },
  {
   "cell_type": "code",
   "execution_count": 35,
   "metadata": {},
   "outputs": [
    {
     "data": {
      "text/plain": [
       "array([False,  True,  True,  True, False])"
      ]
     },
     "execution_count": 35,
     "metadata": {},
     "output_type": "execute_result"
    }
   ],
   "source": [
    "a == 1"
   ]
  },
  {
   "cell_type": "code",
   "execution_count": 42,
   "metadata": {},
   "outputs": [
    {
     "data": {
      "text/plain": [
       "array([False,  True, False, False,  True])"
      ]
     },
     "execution_count": 42,
     "metadata": {},
     "output_type": "execute_result"
    }
   ],
   "source": [
    "b.astype(\"bool\")"
   ]
  },
  {
   "cell_type": "code",
   "execution_count": 39,
   "metadata": {},
   "outputs": [
    {
     "data": {
      "text/plain": [
       "2"
      ]
     },
     "execution_count": 39,
     "metadata": {},
     "output_type": "execute_result"
    }
   ],
   "source": [
    "(b == 1).sum()"
   ]
  },
  {
   "cell_type": "code",
   "execution_count": 38,
   "metadata": {},
   "outputs": [
    {
     "data": {
      "text/plain": [
       "True"
      ]
     },
     "execution_count": 38,
     "metadata": {},
     "output_type": "execute_result"
    }
   ],
   "source": [
    "a.any()"
   ]
  },
  {
   "cell_type": "code",
   "execution_count": 52,
   "metadata": {},
   "outputs": [],
   "source": [
    "def vocab_filter_cycle(vocab, condition, p, l):\n",
    "\tv = np.argmax(vocab, axis = -1)\n",
    "\n",
    "\tif condition == 1:\n",
    "\t\treturn vocab[v[:, p] != l]\n",
    "\tif condition == 3:\n",
    "\t\treturn vocab[v[:, p] == l]\n",
    "\t\n",
    "\treturn vocab"
   ]
  },
  {
   "cell_type": "code",
   "execution_count": 53,
   "metadata": {},
   "outputs": [],
   "source": [
    "def vocab_filter_total(state, vocab):\n",
    "\tfor p in range(state.shape[0]):\n",
    "\t\tfor l in range(state.shape[1]):\n",
    "\t\t\tvocab = vocab_filter_cycle(vocab, state[p, l], p, l)\n",
    "\treturn vocab"
   ]
  },
  {
   "cell_type": "code",
   "execution_count": 49,
   "metadata": {},
   "outputs": [
    {
     "name": "stdout",
     "output_type": "stream",
     "text": [
      "1\n"
     ]
    }
   ],
   "source": [
    "if -1:\n",
    "\tprint('1')"
   ]
  },
  {
   "cell_type": "code",
   "execution_count": null,
   "metadata": {},
   "outputs": [],
   "source": []
  },
  {
   "cell_type": "code",
   "execution_count": null,
   "metadata": {},
   "outputs": [],
   "source": []
  },
  {
   "cell_type": "code",
   "execution_count": null,
   "metadata": {},
   "outputs": [],
   "source": [
    "def full_process(guesses, vocab):\n",
    "\tstate = get_state(guesses)\n",
    "\tnew_vocab = vocab_filter_total(state, vocab)\n",
    "\t"
   ]
  },
  {
   "cell_type": "code",
   "execution_count": null,
   "metadata": {},
   "outputs": [],
   "source": [
    "def full_process(guesses, vocab):\n",
    "\tstate = get_state(guesses)\n",
    "\tnew_vocab = vocab_filter_total(state, vocab)\n",
    "\tvocab_dist = get_vocab_distribution(new_vocab)\n",
    "\tinfo_list = word_information(new_vocab, vocab_dist, state)\n",
    "\tnew_guess = max(info_list, key = lambda x: x[1])\n",
    "\tprint(new_guess)\n",
    "\treturn new_guess"
   ]
  }
 ],
 "metadata": {
  "interpreter": {
   "hash": "aee8b7b246df8f9039afb4144a1f6fd8d2ca17a180786b69acc140d282b71a49"
  },
  "kernelspec": {
   "display_name": "Python 3.7.9 64-bit",
   "language": "python",
   "name": "python3"
  },
  "language_info": {
   "codemirror_mode": {
    "name": "ipython",
    "version": 3
   },
   "file_extension": ".py",
   "mimetype": "text/x-python",
   "name": "python",
   "nbconvert_exporter": "python",
   "pygments_lexer": "ipython3",
   "version": "3.7.9"
  },
  "orig_nbformat": 4
 },
 "nbformat": 4,
 "nbformat_minor": 2
}
